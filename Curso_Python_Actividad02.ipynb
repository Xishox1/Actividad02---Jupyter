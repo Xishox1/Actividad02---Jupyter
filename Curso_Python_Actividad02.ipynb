{
 "cells": [
  {
   "attachments": {
    "UE_Madrid_Logo_Positive_RGB.png": {
     "image/png": "[encoded data removed]"
    }
   },
   "cell_type": "markdown",
   "id": "e48414ce",
   "metadata": {},
   "source": [
    "![UE_Madrid_Logo_Positive_RGB.png](attachment:UE_Madrid_Logo_Positive_RGB.png)"
   ]
  },
  {
   "cell_type": "markdown",
   "id": "68b062c3",
   "metadata": {},
   "source": [
    "# Actividad 2: Python\n",
    "\n",
    "La siguiente actividad debe ser realizada por todo el alumnado siguiendo las instrucciones de cada ejercicio.\n",
    "\n",
    "Las soluciones de cada ejercicio deben contener el código con el que han sido obtenidas. La indicación de un resultado sin el código correspondiente no será un ejercicio/apartado evaluable.\n",
    "\n",
    "Recuerda incluir todos los comentarios que consideres oportunos en tus códigos. Y que cuando generes una función debes utilizar el `Docstring` de forma que se pueda consultar la información y opciones de la función.\n",
    "\n",
    "Las respuestas las cuestiones deben estar explícitamente indicadas y todo el código debe ser visible.\n",
    "\n",
    "* Ejercicio 2.1: 1,5 puntos.\n",
    "* Ejercicio 2.2: 1,25 puntos.\n",
    "* Ejercicio 2.3: 0,75 puntos.\n",
    "* Ejercicio 2.4: 1,5 puntos.\n",
    "* Ejercicio 2.5: 2,75 puntos.\n",
    "* Ejercicio 2.6: 2,25 puntos.\n",
    "\n",
    "Esta actividad supone un 60% de la nota final del módulo de Python.\n",
    "\n",
    "La actividad debe ser entregada en formato preferiblemente `ipynb` y el nombre del archivo debe ser `PRIMER_APELLIDO_NOMBRE_ACTIVIDAD02` todo en mayúsculas.\n",
    "\n",
    "### <font color='red'> La fecha máxima de entrega es el día 28 de enero de 2023. </font>\n",
    "\n"
   ]
  },
  {
   "cell_type": "markdown",
   "id": "8277e34c",
   "metadata": {},
   "source": [
    "### Descripción de los datos a utilizar\n",
    "El archivo de datos a utilizar en la actividad es `tarjetas.txt`.\n",
    "Este archivo contiene información relativa a contratos de tarjetas de crédito de diferentes clientes de una empresa, e incluye los siguientes campos:\n",
    "* __idcliente:__ Código de dentificación interno de cada cliente, es un código único por cliente.\n",
    "* __idcontrato:__ Código de identificación del contrato.\n",
    "* __producto:__ Tipo de producto de la tarjeta. Los productos son: A, B y C.\n",
    "* __limite:__ Importe máximo del que puede disponer un cliente en la tarjeta.\n",
    "* __dispuesto:__ Importe dispuesto en la tarjeta.\n",
    "* __disponible:__ Importe que queda disponible en la tarjeta.\n",
    "* __contacto_cliente:__ Estado del último contacto telefónico realizado al cliente. Toma tres valores:\n",
    "    * 0: Rechaza volver a ser contactado.\n",
    "    * 1: Contacto no conseguido.\n",
    "    * 2: Contacto realizado.\n",
    "* __Impago:__ Situación contable de la tarjeta:\n",
    "    * 0: Fallido.\n",
    "    * 1: Impago.\n",
    "    * 2: Dudoso.\n",
    "    * 3: Normal.\n",
    "* __tipo:__ Indica el tipo de interés trimestral al que se cobra cada producto:\n",
    "    * Producto A: 18.75.\n",
    "    * Producto B: 10.25.\n",
    "    * Producto C: 6.33.\n",
    "\n",
    "El archivo contiene encabezados, un índice, los campos están separados por un tabulador y el separador decimal es la coma.\n",
    "    \n"
   ]
  },
  {
   "cell_type": "markdown",
   "id": "ad39bf30",
   "metadata": {},
   "source": [
    "### Ejercicio 2.1: \n",
    "1. Lee el fichero de datos `tarjetas.txt` y almacena la información en un `dataframe` de Pandas (llámalo `df`) y comprueba los registros que tiene el archivo.\n"
   ]
  },
  {
   "cell_type": "markdown",
   "id": "ed06e743",
   "metadata": {},
   "source": [
    "2. ¿Cuántos clientes distintos existen?\n"
   ]
  },
  {
   "cell_type": "markdown",
   "id": "d9479ea9",
   "metadata": {},
   "source": [
    "3. ¿Qué cliente es el que tiene un mayor número contratos? Indica su `idcliente`, en caso de existir más de uno indica todos los id. ¿Cuántos contratos tiene/n este/os cliente/s?\n",
    "4. ¿Cuántos contratos hay de que cada tipo de producto?\n",
    "5. Crea una nueva variable llamada `contacto_str` en que se haya sustituido sus valores por los siguientes textos:\n",
    "    * Valor 0: rechazado\n",
    "    * Valor 1: ausente\n",
    "    * Valor 2: contactado\n",
    "6. Crea una nueva variable llamada `pct_uso` que indique el porcentaje de utilización calculado como el cociente de `dispuesto` y `limite` en tantos por uno.\n",
    "7. ¿Cúantas tarjetas hay que se encuentren en situciacón de sobredisposición, es decir, que tengan un porcentaje de uso superior a 1?\n",
    "8. ¿Cuál es el límite mínimo, máximo y medio por producto? Muéstralo en un único dataframe."
   ]
  },
  {
   "cell_type": "markdown",
   "id": "e6bb2740",
   "metadata": {},
   "source": [
    "### Ejercicio 2.2:\n",
    "1. Ya que existe un número determinado de clientes que han rechazado el contacto, genera un nuevo `dataframe` sin estos clientes llamado `df_fil` que sea una copia de `df`.\n",
    "1. Por cuestiones de calidad se ha detectado que existen contratos con un tipo de interés que no es uno de los estipulados para cada producto. Sobre `df_fil` genera una nueva variable llamada `tipo_corr` que tenga el tipo de interés correcto para cada producto ¿cuántos casos con `tipo` incorrecto hay?\n",
    "1. Sobre `df_fil` realiza las siguientes comprobaciones:\n",
    "    * ¿Sobre los clientes contactados cual es el producto mayoritario?\n",
    "    * ¿que porcentaje de tarjetas se encuentran en situación de Impago?\n",
    "    * Se considera que la cartera se encuentra en situación sostenible si el porcentaje de tarjetas en situación contable `dudoso` y `normal` supera el 80% del total de tarjetas ¿se verifica esta condición?\n",
    "    * Para la empresa el importe dispuesto de cada tarjeta genera un coste que depende de la situación contable:\n",
    "        * Fallido: 120%.\n",
    "        * Impago: 100%.\n",
    "        * Dudoso: 10%\n",
    "        * Normal: 0%\n",
    "      \n",
    "     ¿Cual es el coste total que supone a la empresa esta cartera?\n",
    "1. Cada tarjeta trae asociado un coste para el titular de la tarjeta, existen varios tipos de costes que se detallan a continuación:\n",
    "    * _Coste por disposición:_ Es el coste que se calcula sobre el importe dispuesto, solo se aplica si se tiene un porcentaje dispuesto superior al 50% e inferior o igual al 100% y depende del producto, los porcentajes a aplicar son:\n",
    "        * 1% para el producto A.\n",
    "        * 3% para el producto B.\n",
    "        * 0% para el producto C.\n",
    "    * _Coste por sobre disposición:_ Es el coste que se calcula sobre el importe dispuesto por encima del límite:\n",
    "        * 15% para el producto: A.\n",
    "        * 10% para el producto: B.\n",
    "        *  5% para el producto: C.\n",
    "    * _Coste de no disposición:_ El coste de no disposición es el aplicado sobre el importe disponible siempre que el porcentaje de uso sea inferior al 20%. Y es:\n",
    "        * 2% para las tarjetas sin importes dispuestos.\n",
    "        * Para el resto de tarjetas un 0,15% por cada 5% dispuesto, es decir si es el porcentaje dispuesto está entre (0-5%] se asigna un 0,15% para ese tramo, si (5%-10%] se asigna un 0,30% un para ese tramo, etc.\n",
    "\n",
    "    * _Coste global de mantenimiento:_ Este coste se asigna proporcionalmente según el porcentaje de uso de la tarjeta. Aplicando una comisión mínima del 1,23% sobre el límite de la tarjeta y un máximo del 3%.\n",
    "\n",
    "    Teniendo en cuenta lo anterior, crea una columna en `df_fil` que contenga el coste total por tarjeta, llámala `imp_comisiones`.\n",
    "  \n",
    "5. Crea un `dataframe` nuevo llamado `df_coste_cliente` que contenga para cada cliente el coste total de sus tarjetas (`imp_comisiones`) ¿Alguno de los clientes con mayor número de tarjetas (el obtenido en el ejercicio 2.1) es el que paga mayor importe en comisiones?"
   ]
  },
  {
   "cell_type": "markdown",
   "id": "b439ec74",
   "metadata": {},
   "source": [
    "### Ejercicio 2.3:\n",
    "Por cuestiones comerciales se han seleccionado cinco clientes: 12874803, 13067217, 13163055, 13335511, 12900036. Genera un `dataframe` llamado `clientes_vip` que contenta los siguientes campos e información para cada cliente:\n",
    "* Edad: [41, 18, 33, 56, 42]\n",
    "* Nombre: [Pepa A., Antonio G., Fernando T., Rebeca S., Laura F.]\n",
    "* Ingresos anuales: [43000, 25000, 55000, 32000, 40000]\n",
    "\n",
    "Genera un nuevo `dataframe` llamado `cli_vip_fin` que sea el resultado de añadir la información de `clientes_vip` a `df_fil` y que contenga únicamente los cinco clientes seleccionados.\n",
    "\n",
    "La campaña comercial consiste en bonificar a cada cliente de forma que se le otorga un 1% de bonficación por cada decada completa que han cumplido. Por ejemplo, un cliente con 59 años se le bonificaría con un 5%. Crea una columna llamada `bonificacion` que contenga el porcentaje de bonificación de cada cliente (sobre `cli_vip_fin`).\n"
   ]
  },
  {
   "cell_type": "markdown",
   "id": "85a58e16",
   "metadata": {},
   "source": [
    "### Ejercicio 2.4\n",
    "Realiza una copia del objeto `df` y llámalo `df2_4`, sobre este conjunto de datos realiza las siguientes operaciones:\n",
    "1. Crea una variable llamada `limite_gr` de forma que contenga una versión categorizada de la variable `limite` conforme a los siguientes tramos:\n",
    "    * 01. [0, 700]\n",
    "    * 02. (700, 800]\n",
    "    * 03. (800, 1200]\n",
    "    * 04. (1200, 1700]\n",
    "    * 05. (1700, 2500]\n",
    "    * 06. (2500, 5000]\n",
    "    * 07. (5000, 8000]\n",
    "    * 08. (8000, 10000]\n",
    "    * 09. (10000, 20000]\n",
    "1. ¿Cuántos registros hay en cada categoría de la variable `limite_gr`? ¿Cuál es el que acumula un mayor porcentaje de registros y qué porcentaje es?\n",
    "\n",
    "1. Selecciona una muestra aleatoria del 10% de los registros de `df2_4` y almacenála en `df2_4_smp`. ¿Qué porcentaje de registros hay en cada categoría de la variable `limite_gr` en la muestra?\n",
    "\n",
    "1. Compara ambos porcentajes en el mismo dataframe.\n",
    "\n",
    "\n",
    "1. Dentro de la empresa se utiliza la cifra $$\\frac{disponible ^2 - k \\cdot dispuesto}{limite^2}$$ como un factor de propensión a la sobreutilización de la tarjeta. El componente $k$ toma un valor que depende del límite de la operación:\n",
    "    * k = 0.5 si limite < 1500\n",
    "    * k = 1 si limite < 5000\n",
    "    * k = 1.2 si limite < 10.000\n",
    "    * k = 1.5 si limite >= 10.000\n",
    "  Crea una columna llamada `propension` de forma que contenga el cálculo anterior realizado a través de una función.\n",
    "1. Dibuja el histograma de la variable `propension`.\n",
    "1. ¿Cuántos registros tienen una propensión entre 0.95 y 1.05?\n",
    "1. ¿Cada factor $k$ a cuántos registros ha sido aplicado?\n",
    "1. La `propension` permite conocer si hay un alto o bajo riesgo de que el limite de la tarjeta pueda llegar a ser superado. Para ello es necesario identificar que registros son de alto riesgo y cuáles no. Crea una columna llamada `riesgo` que contenga los valores `alto riesgo` y `bajo riesgo`, se considera que un cliente es de `alto riesgo` si la propensión supera al porcentaje de uso.\n",
    "1. Para priorizar acciones comerciales se desea marcar al 5% de los clientes con menor porcentaje de uso con la etiqueta `prioridad 1`, al 1% de los clientes con mayor porcentaje de uso como `prioridad 4`, al 21% de los clientes con mayor porcentaje de uso con `prioridad 3` y el resto con `prioridad 2`.\n",
    "\n",
    "    El porcentaje de uso a utilizar debe ser agregado para cada cliente ¿cuántos clientes hay en cada grupo de prioridad?\n",
    "1. La empresa ha decidido aplicar una comisión de un 1,5% a las tarjetas de alto riesgo sobre el importe disponible y una bonificación del 0,43% a las tarjetas de bajo riesgo sobre el importe dispuesto.\n",
    "    * ¿Cuál es el importe total recaudado por la empresa con este nuevo importe?\n",
    "    * ¿Qué coste tiene para la empresa esta nueva bonificación?\n",
    "    * ¿Ha resultado beneficioso para la empresa aplicar esta nueva medida?"
   ]
  },
  {
   "cell_type": "markdown",
   "id": "ecd6aaea",
   "metadata": {},
   "source": [
    "### Ejercicio 2.5\n",
    "\n",
    "La empresa se está planteando transformar ciertas tarjetas en préstamos. Para cuando los clientes lo soliciten será necesario disponer del cuadro de amortización resultante de realizar esta transformación. Para ello es necesario lo siguiente:\n",
    "* El importe del préstamo será el saldo dispuesto de la tarjeta +10% de comisión +5% del límite si la tarjeta no está sobredispuesta en este porcentaje.\n",
    "* Se considerará un tipo de interés fijo del 2,75%, aunque debe poder elegirse otro.\n",
    "* El plazo amortización será preestablecido en 5 años, pero podría modificarse.\n",
    "* Se considera sistema de amortización francés (cuota fija) para amortización mensual.\n",
    "\n",
    "Con todo esto:\n",
    "1. Se debe programar una función que genere un dataframe con el cuadro de amortización mensual dada la información anterior y la información de la tarjeta.\n",
    "2. Con las condiciones prefijadas de antemano ¿cuál sería la cuota inicial que se pagaría por cada tarjeta?\n",
    "3. Esta operación solo sería aprobada si la cuota resultante supone un importe inferior al límite de la tarjeta dividido entre 55 ¿qué porcentaje de tarjetas es susceptible de ser aprobado?\n"
   ]
  },
  {
   "cell_type": "markdown",
   "id": "98c0e65a",
   "metadata": {},
   "source": [
    "### Ejercicio 2.6\n",
    "\n",
    "Cuando se utilizan técnicas estadísticas de análisis de la información a menudo es necesario que las variables que se están analizando verifiquen la hipótesis de Normalidad, esto es que su distribución de probabilidad pueda considerarse Normal. \n",
    "\n",
    "Sin embargo, esto no siempre se cumple, por lo que una de las posibles soluciones es transformar los datos de modo que su distribución se asemeje a la de una distribución de probabilidad Normal.\n",
    "\n",
    "Para ello, se puede hacer uso de la familia de transformaciones de Box - Cox, que se define de la siguiente forma:\n",
    "$$y^{(\\lambda)}=\\left\\{\n",
    "\\begin{array}{ll}\n",
    "\\dfrac{(y+m)^\\lambda-1}{\\lambda} & \\lambda \\neq 0\\\\\n",
    "\\ln(y+m) & \\lambda = 0\\\\\n",
    "\\end{array}\\right.$$\n",
    "donde el parámetro $\\lambda$ ha de estimarse a partir de los datos y la constante $m$ se elige de forma que $y+m$ sea siempre positiva.\n",
    "\n",
    "Se pide:\n",
    "1. Programa una función que permita aplicar la transformación de Box - Cox sobre una columna de un `dataframe` de Pandas. Selecciona un valor para $\\lambda$ y utilízalo para aplicar la transformación sobre la variable `dispuesto`. Aplícale también el valor 0.982.\n",
    "\n",
    "1. Programa una función que permita obtener el valor $\\lambda$ óptimo, con una precisiónd de dos decimales, al aplicar la familia de transformaciones Box - Cox sobre la variable `dispuesto` de forma que la variable se asemeje lo máximo posible a una distribución Normal. \n",
    "\n",
    "  Como criterio de Normalidad utiliza el estadístico de Jarque - Bera, de forma que cuanto menor sea, más próximo a la Normalidad se encontrará la variable.\n",
    "  \n",
    "  Para el cálculo del estadístico de Jarque - Bera haz uso de la función `jarque_bera` del paquete `scipy`\n",
    "  \n",
    "  ```\n",
    "      from scipy.stats import jarque_bera\n",
    "      x = np.array((1, 23, 4))\n",
    "      jarque_bera_test = jarque_bera(x)\n",
    "      jarque_bera_test.statistic\n",
    "  ```\n",
    "  \n",
    "  En resumen, programa una función que calcule el valor $\\lambda$ óptimo con una precisión de dos decimales que proporcione el valor mínimo del estadístico de Jarque - Bera.\n",
    "1. Dibuja conjuntamente el histograma de la varible transformada y la variable sin transformar.\n",
    "  "
   ]
  }
 ],
 "metadata": {
  "kernelspec": {
   "display_name": "Python 3 (ipykernel)",
   "language": "python",
   "name": "python3"
  },
  "language_info": {
   "codemirror_mode": {
    "name": "ipython",
    "version": 3
   },
   "file_extension": ".py",
   "mimetype": "text/x-python",
   "name": "python",
   "nbconvert_exporter": "python",
   "pygments_lexer": "ipython3",
   "version": "3.9.15"
  }
 },
 "nbformat": 4,
 "nbformat_minor": 5
}
